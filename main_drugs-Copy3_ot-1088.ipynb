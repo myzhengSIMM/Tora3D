{
 "cells": [
  {
   "cell_type": "code",
   "execution_count": null,
   "id": "08832b5d",
   "metadata": {},
   "outputs": [],
   "source": [
    "2022年9月2日19点02分：  num_choosed_confs = 12000\n",
    "2022年9月16日10点33分：  nam = 200"
   ]
  },
  {
   "cell_type": "code",
   "execution_count": 1,
   "id": "7e24e628",
   "metadata": {},
   "outputs": [],
   "source": [
    "from pre_data_f import pre_data\n",
    "from cheek_pred_effect import construct_test_loader_by_dic\n",
    "\n",
    "from model_ import PosEmb_Seq2eq\n",
    "# from utils import count_parameters\n",
    "# from utils import pad_list\n",
    "\n",
    "from cheek_pred_effect import generate_pred_confs \n",
    "from utils_base import pickle_\n",
    "from utils_base import info\n",
    "from utils_base import repeat_list_by_numlist\n",
    "from utils_base import group_by_num\n",
    "from utils_base import reorder\n",
    "\n",
    "from utils_others import extract_mol_from_chemdir\n",
    "from utils_others import rotate_a_mol\n",
    "from utils_others import writosdf\n",
    "\n",
    "\n",
    "from utils import count_parameters\n",
    "\n",
    "from loops import batch_inference, inference\n",
    "\n",
    "import torch\n",
    "from torch import nn\n",
    "from torch.optim import Adam\n",
    "import copy\n",
    "import os.path as osp\n",
    "from tqdm.notebook import tqdm\n",
    "\n",
    "# from dgllife.utils import Meter\n",
    "# from functools import partial\n",
    "\n",
    "import numpy as np\n",
    "import time\n",
    "\n",
    "# torch.set_printoptions(profile=\"full\")   #  使得tensor完全显示\n",
    "torch.set_printoptions(sci_mode=False)  #   取消科学计数法显示\n",
    "\n",
    "\n",
    "device = torch.device(\"cuda\" if torch.cuda.is_available() else \"cpu\")\n",
    "# device = torch.device(\"cpu\")"
   ]
  },
  {
   "cell_type": "code",
   "execution_count": 2,
   "id": "a0f155be",
   "metadata": {},
   "outputs": [],
   "source": [
    "path = \"./data_1\"\n",
    "ol = \"drugs\"\n",
    "nam = \"1088\""
   ]
  },
  {
   "cell_type": "code",
   "execution_count": 3,
   "id": "2d917cdf",
   "metadata": {},
   "outputs": [],
   "source": [
    "# 超参数\n",
    "\n",
    "# 文件路径\n",
    "test_dic_path = f\"./prepare_ori_con/test_{nam}_dic.pkl\"\n",
    "\n",
    "smiles_list_path = osp.join(path, ol, \"smiles_list.pkl\" )          \n",
    "torsion_idx_list_path = osp.join(path, ol, \"torsion_idx_list.pkl\")\n",
    "\n",
    "torsion_list_path = osp.join(path, ol, \"torsion_list.pkl\")\n",
    "relativeenergy_list_path = osp.join(path, ol, \"relativeenergy_list.pkl\")\n",
    "\n",
    "batch_size = 16\n",
    "\n",
    "max_Emb_wl = 40    # 定义wl算法得出的节点最多有多少种\n",
    "max_Emb_d = 10     # 定义每个节点的度最多多少种\n",
    "\n",
    "# generate feat\n",
    "max_num_atom=90\n",
    "wl_max_iter=3\n",
    "num_choosed_confs = 12000\n",
    "\n",
    "# 划分数据集\n",
    "rate_trte=0.9\n",
    "rate_tr_in_trti=0.8\n",
    "\n",
    "# 打印频率\n",
    "print_every = 100\n",
    "model_save_every = 10000\n",
    "\n",
    "# epochs\n",
    "num_epochs = 100"
   ]
  },
  {
   "cell_type": "code",
   "execution_count": 4,
   "id": "06168b0b",
   "metadata": {},
   "outputs": [
    {
     "name": "stdout",
     "output_type": "stream",
     "text": [
      "model的参数个数为: 3457381\n"
     ]
    }
   ],
   "source": [
    "model = PosEmb_Seq2eq(          # 4 * (node_feat_dim + outp_dim*3) + 3 * edge_feat_dim  要能除尽ENC_HEADS    \n",
    "\n",
    "    pf_dim_pos=32,\n",
    "    pf_dim1=32,  # I take 256\n",
    "    pf_dim2=32,  # I take 256\n",
    "    max_Emb_wl=max_Emb_wl,   \n",
    "    max_Emb_d=max_Emb_d,\n",
    "\n",
    "    # pf_dim_readout=256,  # I take 256\n",
    "    outp_dim=16,  # I take 16\n",
    "    trg_emb_dim=32,\n",
    "\n",
    "    ENC_LAYERS=1,\n",
    "    ENC_HEADS=5,  # 这里需要注意不能随便取，需要能整除的才行\n",
    "    ENC_PF_DIM=32,\n",
    "    DEC_LAYERS=3,\n",
    "    DEC_HEADS=4,\n",
    "    DEC_PF_DIM=32,\n",
    "    device=device,\n",
    "    \n",
    "    t_e_ENC_LAYERS=1,\n",
    "    t_e_ENC_HEADS=5,      # node_feat_dim+outp_dim可以被t_e_ENC_HEADS整除\n",
    "    t_e_ENC_PF_DIM=32,\n",
    "    \n",
    "    noise_dim = 100,\n",
    "    noise_loc=0, \n",
    "    noise_scale=5,\n",
    "    \n",
    "    edge_feat_dim=10,\n",
    "    node_feat_dim=39,\n",
    "    dropout=0.1,\n",
    "    max_num_atom=max_num_atom\n",
    ").to(device)\n",
    "print(\"model的参数个数为:\", count_parameters(model))"
   ]
  },
  {
   "cell_type": "code",
   "execution_count": 5,
   "id": "fad0a299",
   "metadata": {},
   "outputs": [],
   "source": [
    "loss_criterion = nn.MSELoss()   # ignore_index = TRG_PAD_IDX  我这里应该是不要弄的\n",
    "# loss_criterionn = nn.MSELoss()   # ignore_index = TRG_PAD_IDX  我这里应该是不要弄的\n",
    "\n",
    "loss_criterion_= nn.CrossEntropyLoss()\n",
    "optimizer = Adam(model.parameters(), lr = 0.0005,\n",
    "                 weight_decay=10 ** -5\n",
    "                )"
   ]
  },
  {
   "cell_type": "code",
   "execution_count": 6,
   "id": "c0e3a27c",
   "metadata": {},
   "outputs": [
    {
     "name": "stdout",
     "output_type": "stream",
     "text": [
      "开始读取加载数据\n",
      "2022-12-13 13:15:41\n",
      "加载完成\n",
      "2022-12-13 13:16:20\n",
      "185469 185469 185469 185469\n"
     ]
    },
    {
     "data": {
      "text/plain": [
       "device(type='cpu')"
      ]
     },
     "execution_count": 6,
     "metadata": {},
     "output_type": "execute_result"
    }
   ],
   "source": [
    "print(\"开始读取加载数据\")\n",
    "print (time.strftime(\"%Y-%m-%d %H:%M:%S\", time.localtime()))\n",
    "smilelist = pickle_.load(smiles_list_path)\n",
    "torsion_angle = pickle_.load(torsion_list_path)\n",
    "torsion_list = pickle_.load(torsion_idx_list_path)\n",
    "relativeenergy_list = pickle_.load(relativeenergy_list_path)\n",
    "\n",
    "# torsion_angle = [list(zip(torsion[0],(np.array(torsion[1])+1).tolist())) for torsion in torsion_angle]\n",
    "\n",
    "print(\"加载完成\")\n",
    "print (time.strftime(\"%Y-%m-%d %H:%M:%S\", time.localtime()) )\n",
    "print(len(smilelist), len(torsion_angle), len(torsion_list), len(relativeenergy_list))\n",
    "torsion_angle[0].device"
   ]
  },
  {
   "cell_type": "code",
   "execution_count": 7,
   "id": "21f2ebdb",
   "metadata": {},
   "outputs": [
    {
     "name": "stdout",
     "output_type": "stream",
     "text": [
      "9274 1160 1160\n"
     ]
    }
   ],
   "source": [
    "train_loader, val_loader, test_loader = pre_data(\n",
    "    smilelist, torsion_list, torsion_angle, relativeenergy_list, batch_size,\n",
    "    rate_trte, rate_tr_in_trti, max_num_atom, wl_max_iter, num_choosed_confs, \n",
    "    device = device\n",
    "     )\n",
    "print(len(train_loader),  len(val_loader), len(test_loader))"
   ]
  },
  {
   "cell_type": "code",
   "execution_count": 8,
   "id": "618d562f",
   "metadata": {},
   "outputs": [
    {
     "name": "stderr",
     "output_type": "stream",
     "text": [
      "/home/admin/work/大四下学期药物所服务器文件/大四下学期药物所服务器文件/v100/predict_Dihedral_angle/trans_t_e(pos_wl_d) from_geom/noise_all_normtor/cheek_pred_effect.py:59: FutureWarning: The input object of type 'Tensor' is an array-like implementing one of the corresponding protocols (`__array__`, `__array_interface__` or `__array_struct__`); but not a sequence (or 0-D). In the future, this object will be coerced as if it was first converted using `np.array(obj)`. To retain the old behaviour, you have to either modify the type 'Tensor', or assign to an empty array created with `np.empty(correct_shape, dtype=object)`.\n",
      "  torsion_angle_200 = list(np.array([t.cpu() for t in torsion_angle])[idxs])\n",
      "/home/admin/work/大四下学期药物所服务器文件/大四下学期药物所服务器文件/v100/predict_Dihedral_angle/trans_t_e(pos_wl_d) from_geom/noise_all_normtor/cheek_pred_effect.py:59: VisibleDeprecationWarning: Creating an ndarray from ragged nested sequences (which is a list-or-tuple of lists-or-tuples-or ndarrays with different lengths or shapes) is deprecated. If you meant to do this, you must specify 'dtype=object' when creating the ndarray.\n",
      "  torsion_angle_200 = list(np.array([t.cpu() for t in torsion_angle])[idxs])\n",
      "/home/admin/work/大四下学期药物所服务器文件/大四下学期药物所服务器文件/v100/predict_Dihedral_angle/trans_t_e(pos_wl_d) from_geom/noise_all_normtor/cheek_pred_effect.py:60: FutureWarning: The input object of type 'Tensor' is an array-like implementing one of the corresponding protocols (`__array__`, `__array_interface__` or `__array_struct__`); but not a sequence (or 0-D). In the future, this object will be coerced as if it was first converted using `np.array(obj)`. To retain the old behaviour, you have to either modify the type 'Tensor', or assign to an empty array created with `np.empty(correct_shape, dtype=object)`.\n",
      "  torsion_list_200 = list(np.array([t.cpu() for t in torsion_list])[idxs])\n",
      "/home/admin/work/大四下学期药物所服务器文件/大四下学期药物所服务器文件/v100/predict_Dihedral_angle/trans_t_e(pos_wl_d) from_geom/noise_all_normtor/cheek_pred_effect.py:60: VisibleDeprecationWarning: Creating an ndarray from ragged nested sequences (which is a list-or-tuple of lists-or-tuples-or ndarrays with different lengths or shapes) is deprecated. If you meant to do this, you must specify 'dtype=object' when creating the ndarray.\n",
      "  torsion_list_200 = list(np.array([t.cpu() for t in torsion_list])[idxs])\n",
      "/home/admin/work/大四下学期药物所服务器文件/大四下学期药物所服务器文件/v100/predict_Dihedral_angle/trans_t_e(pos_wl_d) from_geom/noise_all_normtor/cheek_pred_effect.py:61: VisibleDeprecationWarning: Creating an ndarray from ragged nested sequences (which is a list-or-tuple of lists-or-tuples-or ndarrays with different lengths or shapes) is deprecated. If you meant to do this, you must specify 'dtype=object' when creating the ndarray.\n",
      "  relativeenergy_list_200 = list(np.array(relativeenergy_list)[idxs])\n"
     ]
    },
    {
     "name": "stdout",
     "output_type": "stream",
     "text": [
      "len(test_loader) 68\n"
     ]
    }
   ],
   "source": [
    "test_loader = construct_test_loader_by_dic(test_dic_path, \n",
    "                                            smilelist,\n",
    "                                            torsion_angle,\n",
    "                                            torsion_list,\n",
    "                                            relativeenergy_list,\n",
    "                                            batch_size,\n",
    "                                            max_num_atom, \n",
    "                                            wl_max_iter, \n",
    "                                            num_choosed_confs, \n",
    "                                            device = device)"
   ]
  },
  {
   "cell_type": "code",
   "execution_count": 9,
   "id": "fbdb6388",
   "metadata": {},
   "outputs": [],
   "source": [
    "#     for batch_id, batch_data in enumerate(train_loader):\n",
    "#         atom_feat, AM_bond_feat, node_color_feat, d, labels, masks, relativeenergys, num_atom_list, angle_group_num, num_confs_list, smiles_list = batch_data\n",
    "#         break"
   ]
  },
  {
   "cell_type": "code",
   "execution_count": 10,
   "id": "25cd24a2",
   "metadata": {},
   "outputs": [],
   "source": [
    "def count_orderM(prediction,labels, num_confs_list,angle_group_num):\n",
    "    \"\"\"\n",
    "    计算得到最佳对应的索引(被用来和labels相乘，得到顺序正确的labels)\n",
    "    prediction: batchxconfs, try_len, 4\n",
    "    labels: batchxconfs, try_len, 2\n",
    "    num_confs_list: len = batch_size\n",
    "    angle_group_num: len = batc_size\n",
    "    \n",
    "    return 多个01 tensor 矩阵组成的list\n",
    "    \"\"\"\n",
    "    # 计算得到最佳对应的索引\n",
    "    # -------------------------------------------------------------\n",
    "\n",
    "    prediction_t = torch.cat([prediction[:,:,0:1], prediction[:,:,1:].argmax(-1).unsqueeze(-1)-1],-1)    \n",
    "    pred_angles = (prediction_t[:,:,0]+0.5)*180*prediction_t[:,:,1]\n",
    "    true_angles = (labels[:,:,0]+0.5)*180*labels[:,:,1]\n",
    "\n",
    "\n",
    "    prediction_tense = group_by_num(pred_angles, num_confs_list)\n",
    "    labels_tense = group_by_num(true_angles, num_confs_list)\n",
    "    prediction_tense_ = [prediction_tense[index][:,:group].detach().cpu().numpy() for index,group in enumerate(angle_group_num)]\n",
    "    labels_tense_     = [labels_tense[index][:,:group].detach().cpu().numpy()     for index,group in enumerate(angle_group_num)]\n",
    "\n",
    "    orderM_list = [torch.tensor(reorder(p,l)[2], dtype=torch.float32) for p,l in zip(prediction_tense_, labels_tense_)]\n",
    "    # ==============================================================\n",
    "    return orderM_list"
   ]
  },
  {
   "cell_type": "code",
   "execution_count": 11,
   "id": "283c16a6",
   "metadata": {},
   "outputs": [],
   "source": [
    "def run_a_train_epoch( epoch, model, data_loader, loss_criterion, loss_criterion_, optimizer):\n",
    "    device = model.device\n",
    "    model.train()\n",
    "    covr_best = 0\n",
    "    k = 0\n",
    "    for batch_id, batch_data in enumerate(train_loader):\n",
    "        atom_feat, AM_bond_feat, node_color_feat, d, labels, masks, relativeenergys, num_atom_list, angle_group_num, num_confs_list, smiles_list = batch_data\n",
    "        batchsize = len(num_confs_list)\n",
    "        \n",
    "        prediction = model(device, \n",
    "        atom_feat, AM_bond_feat, node_color_feat, d, labels, masks, relativeenergys, num_atom_list, angle_group_num, num_confs_list, smiles_list)\n",
    "        \n",
    "        orderM_list = count_orderM(prediction,labels, num_confs_list,angle_group_num)\n",
    "\n",
    "        prediction_tense = group_by_num(prediction, num_confs_list)\n",
    "        labels_tense     = group_by_num(labels, num_confs_list)\n",
    "        prediction_tense_ = [prediction_tense[index][:,:group] for index,group in enumerate(angle_group_num)]\n",
    "        labels_tense_  = [torch.mm(orderM_list[index].to(device),\n",
    "            labels_tense[index][:,:group].reshape(labels_tense[index].shape[0],-1)).reshape(labels_tense[index].shape[0],-1,2) \n",
    "                             for index,group in enumerate(angle_group_num)]\n",
    "        loss = 0\n",
    "        for i in range(batchsize):\n",
    "            loss_value = loss_criterion(prediction_tense_[i][:,:,0],labels_tense_[i][:,:,0])\n",
    "#             loss_value_distri = loss_criterionn(prediction_tense_[i][:,:,0].std(),labels_tense_[i][:,:,0].std())\n",
    "            loss_sig = loss_criterion_(prediction_tense_[i][:,:,1:].permute(0,2,1), \n",
    "                               (labels_tense_[i][:,:,1]+1).long())/10\n",
    "            loss_ = loss_value+loss_sig\n",
    "            loss+=loss_\n",
    "        loss = loss/batchsize\n",
    "      \n",
    "        optimizer.zero_grad()\n",
    "        loss.backward()\n",
    "        optimizer.step()\n",
    "        \n",
    "        # 打印\n",
    "        if batch_id % print_every == 0:\n",
    "            print(time.strftime(\"%Y-%m-%d %H:%M:%S\", time.localtime()))\n",
    "            \n",
    "            print('epoch {:d}/{:d}, batch {:d}/{:d}, loss {:.4f}'.format(\n",
    "                epoch + 1, num_epochs, batch_id + 1, len(data_loader), loss.item()))\n",
    "            print(\"loss_value:\",loss_value.item())\n",
    "            print(\"loss_sig:\",loss_sig.item())\n",
    "            print(\"loss:\",loss.item())\n",
    "#             print(\"prediction_tense[0]:\", prediction_tense[0])\n",
    "#             acc_sig = ((prediction_[:,1:].argmax(-1)-1 == labels_[:,1]).sum()/len(labels_)).item()\n",
    "#             print(\"acc_sig: \", acc_sig)\n",
    "\n",
    "            model.noise_scale = 100\n",
    "            \n",
    "            matr_,matp_,covr_,covp_,\\\n",
    "                lab_angles_allconfs_list_list,angles_allconfs_list_list= generate_pred_confs(model, test_loader, \n",
    "                                                                        loss_criterion, loss_criterion_, \n",
    "                                                                        save_conf_root=\"./confs_save\",\n",
    "                                                                        chem_dataset_dir = \"/home/admin/work/geomol/rdkit_folder/drugs\",\n",
    "                                                                        ori_confs_path  = test_dic_path,                                                                 \n",
    "                                                                        optimizer=None, \n",
    "                                                                        debug = False,\n",
    "                                                                        angle_range_list = [(-20,20),(40,100)],\n",
    "                                                                        k = \"2\",\n",
    "                                                                        max_re = 6,\n",
    "                                                                        kn = 2,\n",
    "                                                                        f_percent=0.25,\n",
    "                                                                        part_batch=(0,6)\n",
    "                                                                          )\n",
    "            print(\"epoch:\", epoch, \"   covr_:\",covr_)\n",
    "            k+=1\n",
    "            if covr_ > covr_best:\n",
    "                covr_best = covr_\n",
    "                batch_id_best = batch_id\n",
    "                model_best = model\n",
    "                k = 0\n",
    "                print(f\"so far the best is {covr_best}\")\n",
    "            if k == 10:\n",
    "                print(f\"{k} times no more improvement， So far，the best is: {batch_id_best}/{len(data_loader)} _ {covr_best}\")\n",
    "                break\n",
    "        if batch_id % model_save_every == 0:\n",
    "            print(\"saved\")\n",
    "    return batch_id_best,covr_best,model_best"
   ]
  },
  {
   "cell_type": "code",
   "execution_count": 12,
   "id": "13ee38d3",
   "metadata": {},
   "outputs": [],
   "source": [
    "def run_an_eval_epoch(epoch, model, data_loader, loss_criterion, loss_criterion_, optimizer=None):\n",
    "\n",
    "    model.eval()\n",
    "    loss_values_list = []\n",
    "    loss_siges_list = []\n",
    "    losses_list = []\n",
    "    acc_sig_list = []\n",
    "#     Labels = []\n",
    "#     Prediction = []\n",
    "    with torch.no_grad():\n",
    "        for batch_id, batch_data in enumerate(data_loader):\n",
    "            atom_feat, AM_bond_feat, node_color_feat, d, labels, masks, relativeenergys, num_atom_list, angle_group_num, num_confs_list = batch_data\n",
    "\n",
    "            prediction = model(device, atom_feat, AM_bond_feat, node_color_feat, d, labels, masks, relativeenergys, num_atom_list, angle_group_num, num_confs_list)\n",
    "\n",
    "            prediction_ = torch.cat([prediction[index][0: group] for index,group in enumerate(repeat_list_by_numlist(angle_group_num,num_confs_list))])\n",
    "            labels_ = torch.cat([labels[index][0: group] for index, group in enumerate(repeat_list_by_numlist(angle_group_num,num_confs_list))])        \n",
    "\n",
    "            loss_value = loss_criterion(prediction_[:,0], labels_[:,0]).item()\n",
    "            loss_sig=loss_criterion_(prediction_[:,1:], (labels_[:,1]+1).long()).item()/10\n",
    "            loss = loss_value+loss_sig\n",
    "            acc_sig = ((prediction_[:,1:].argmax(-1)-1 == labels_[:,1]).sum()/len(labels_)).item()\n",
    "            \n",
    "            loss_values_list.append(loss_value)\n",
    "            loss_siges_list.append(loss_sig)\n",
    "            losses_list.append(loss)        \n",
    "            acc_sig_list.append(acc_sig)\n",
    "            \n",
    "#             if batch_id == 100:\n",
    "#                 break\n",
    "    loss_value = np.mean(loss_values_list)\n",
    "    loss_sig = np.mean(loss_siges_list)\n",
    "    loss = np.mean(losses_list)\n",
    "    acc_sig = np.mean(acc_sig_list)\n",
    "    \n",
    "    return loss_value, loss_sig, loss, acc_sig "
   ]
  },
  {
   "cell_type": "markdown",
   "id": "65bbb0aa",
   "metadata": {},
   "source": [
    "##### 训练的时候要用到"
   ]
  },
  {
   "cell_type": "raw",
   "id": "dbb3c524",
   "metadata": {},
   "source": [
    "#cheekpoint_path = 'model_save/model_save_main_drugs-Copy3_2022-05-06_21h37m39s.pth'\n",
    "cheekpoint_path = None\n",
    "if cheekpoint_path:\n",
    "    cheekpoint = torch.load(cheekpoint_path)\n",
    "    model.load_state_dict(cheekpoint['model'])\n",
    "    optimizer.load_state_dict(cheekpoint[\"model_optimizer\"])\n",
    "    \n",
    "    Train_loss_value = cheekpoint[\"Train_loss_value\"]\n",
    "    Train_loss_sig = cheekpoint[\"Train_loss_sig\"]\n",
    "    Train_loss = cheekpoint[\"Train_loss\"]\n",
    "    Train_acc_sig = cheekpoint[\"Train_acc_sig\"]\n",
    "    Val_loss_value = cheekpoint[\"Val_loss_value\"]\n",
    "    Val_loss_sig = cheekpoint[\"Val_loss_sig\"]\n",
    "    Val_loss = cheekpoint[\"Val_loss\"]\n",
    "    Val_acc_sig = cheekpoint[\"Val_acc_sig\"]\n",
    "    Test_loss_value = []\n",
    "    Test_acc_sig = []     \n",
    "    \n",
    "else:\n",
    "    Train_loss_value = []\n",
    "    Train_loss_sig = []\n",
    "    Train_loss = []\n",
    "    Train_acc_sig = []\n",
    "    Val_loss_value = []\n",
    "    Val_loss_sig = []\n",
    "    Val_loss = []\n",
    "    Val_acc_sig = []\n",
    "    Test_loss_value = []\n",
    "    Test_acc_sig = [] \n",
    "    \n",
    "    Test_covr_list = []\n",
    "\n",
    "print_every = 100\n",
    "for epoch in range(num_epochs):   \n",
    "    batch_id_best,covr_best,model_best = run_a_train_epoch(epoch, model, train_loader, loss_criterion, loss_criterion_, optimizer)\n",
    "    break\n",
    "\n",
    "# model save\n",
    "time_save=time.strftime(\"%Y-%m-%d_%Hh%Mm%Ss\", time.localtime())\n",
    "torch.save({\n",
    "#                 'epoch': len(Train_loss),\n",
    "                'model': model_best.state_dict(),\n",
    "                'model_optimizer': optimizer.state_dict(),\n",
    "\n",
    "#                 \"Train_loss_value\": Train_loss_value,\n",
    "#                 \"Train_loss_sig\": Train_loss_sig,\n",
    "#                 \"Train_loss\": Train_loss,\n",
    "#                 \"Train_acc_sig\": Train_acc_sig,\n",
    "                \n",
    "#                 \"Val_loss_value\": Val_loss_value,\n",
    "#                 \"Val_loss_sig\": Val_loss_sig,\n",
    "#                 \"Val_loss\": Val_loss,\n",
    "#                 \"Val_acc_sig\": Val_acc_sig,\n",
    "    \n",
    "},\n",
    "          f\"model_save/model_save_main_drugs-Copy3ot_{time_save}.pth\")\n",
    "\n",
    "print(\"将模型保存到\", f\"model_save/model_save_main_drugs-Copy3ot_{time_save}.pth\", \"中了\")"
   ]
  },
  {
   "cell_type": "code",
   "execution_count": 13,
   "id": "c33fbb3c",
   "metadata": {},
   "outputs": [
    {
     "data": {
      "text/plain": [
       "<All keys matched successfully>"
      ]
     },
     "execution_count": 13,
     "metadata": {},
     "output_type": "execute_result"
    }
   ],
   "source": [
    "# load model\n",
    "cheekpoint = torch.load('model_save/model_save_main_drugs-Copy3ot_2022-06-14_20h10m42s.pth')\n",
    "model.load_state_dict(cheekpoint['model'])\n",
    "\n",
    "# model_save_main_drugs-Copy3ot_2022-06-14_20h10m42s 是最好的"
   ]
  },
  {
   "cell_type": "code",
   "execution_count": 14,
   "id": "b1cd36f9",
   "metadata": {
    "scrolled": true
   },
   "outputs": [
    {
     "name": "stdout",
     "output_type": "stream",
     "text": [
      "2022-12-13 13:22:37\n"
     ]
    },
    {
     "data": {
      "application/vnd.jupyter.widget-view+json": {
       "model_id": "7372faddd6f34e2987f066ac32a454a0",
       "version_major": 2,
       "version_minor": 0
      },
      "text/plain": [
       "0it [00:00, ?it/s]"
      ]
     },
     "metadata": {},
     "output_type": "display_data"
    },
    {
     "name": "stderr",
     "output_type": "stream",
     "text": [
      "/home/admin/work/大四下学期药物所服务器文件/大四下学期药物所服务器文件/v100/predict_Dihedral_angle/trans_t_e(pos_wl_d) from_geom/noise_all_normtor/model_.py:215: UserWarning: To copy construct from a tensor, it is recommended to use sourceTensor.clone().detach() or sourceTensor.clone().detach().requires_grad_(True), rather than torch.tensor(sourceTensor).\n",
      "  mask_ = torch.tensor(masks[i]).to(device)\n",
      "/home/admin/work/大四下学期药物所服务器文件/大四下学期药物所服务器文件/v100/predict_Dihedral_angle/trans_t_e(pos_wl_d) from_geom/noise_all_normtor/model_.py:254: UserWarning: To copy construct from a tensor, it is recommended to use sourceTensor.clone().detach() or sourceTensor.clone().detach().requires_grad_(True), rather than torch.tensor(sourceTensor).\n",
      "  mask_ = torch.tensor(masks[i]).to(device)\n"
     ]
    },
    {
     "data": {
      "application/vnd.jupyter.widget-view+json": {
       "model_id": "a1a1319c49e6435dbaa86bd2029d9b92",
       "version_major": 2,
       "version_minor": 0
      },
      "text/plain": [
       "  0%|          | 0/16 [00:00<?, ?it/s]"
      ]
     },
     "metadata": {},
     "output_type": "display_data"
    },
    {
     "name": "stderr",
     "output_type": "stream",
     "text": [
      "/home/admin/anaconda3/envs/graphormer/lib/python3.7/site-packages/torch_geometric/data/storage.py:249: UserWarning: Unable to accurately infer 'num_nodes' from the attribute set '{'edge_index'}'. Please explicitly set 'num_nodes' as an attribute of 'data' to suppress this warning\n",
      "  \" to suppress this warning\")\n",
      "/home/admin/work/大四下学期药物所服务器文件/大四下学期药物所服务器文件/v100/predict_Dihedral_angle/trans_t_e(pos_wl_d) from_geom/noise_all_normtor/find_isomer/get_1mole_4atomses.py:34: VisibleDeprecationWarning: Creating an ndarray from ragged nested sequences (which is a list-or-tuple of lists-or-tuples-or ndarrays with different lengths or shapes) is deprecated. If you meant to do this, you must specify 'dtype=object' when creating the ndarray.\n",
      "  cycles = np.array([cycle for cycle in extract_cycles(mol) if len(cycle)>=5])\n",
      "/home/admin/work/大四下学期药物所服务器文件/大四下学期药物所服务器文件/v100/predict_Dihedral_angle/trans_t_e(pos_wl_d) from_geom/noise_all_normtor/find_isomer/get_1mole_4atomses.py:35: VisibleDeprecationWarning: Creating an ndarray from ragged nested sequences (which is a list-or-tuple of lists-or-tuples-or ndarrays with different lengths or shapes) is deprecated. If you meant to do this, you must specify 'dtype=object' when creating the ndarray.\n",
      "  cycle_edge_list = np.array([get_edge_list_from_cycle(cycle) for cycle in cycles])\n",
      "/home/admin/work/大四下学期药物所服务器文件/大四下学期药物所服务器文件/v100/predict_Dihedral_angle/trans_t_e(pos_wl_d) from_geom/noise_all_normtor/find_isomer/get_1mole_4atomses.py:36: VisibleDeprecationWarning: Creating an ndarray from ragged nested sequences (which is a list-or-tuple of lists-or-tuples-or ndarrays with different lengths or shapes) is deprecated. If you meant to do this, you must specify 'dtype=object' when creating the ndarray.\n",
      "  cycle_edge_list_type = np.array([np.array(get_edge_type(mol, edge_list)) for edge_list in cycle_edge_list])\n"
     ]
    },
    {
     "name": "stdout",
     "output_type": "stream",
     "text": [
      "目前位置平均准确率： 0.8773441675132678\n"
     ]
    },
    {
     "data": {
      "application/vnd.jupyter.widget-view+json": {
       "model_id": "108be969986a4a46922dc2b7e8442ff5",
       "version_major": 2,
       "version_minor": 0
      },
      "text/plain": [
       "  0%|          | 0/16 [00:00<?, ?it/s]"
      ]
     },
     "metadata": {},
     "output_type": "display_data"
    },
    {
     "name": "stdout",
     "output_type": "stream",
     "text": [
      "目前位置平均准确率： 0.8262236056328321\n"
     ]
    },
    {
     "data": {
      "application/vnd.jupyter.widget-view+json": {
       "model_id": "804f55b9752a4b899564616029221b5e",
       "version_major": 2,
       "version_minor": 0
      },
      "text/plain": [
       "  0%|          | 0/16 [00:00<?, ?it/s]"
      ]
     },
     "metadata": {},
     "output_type": "display_data"
    },
    {
     "name": "stdout",
     "output_type": "stream",
     "text": [
      "目前位置平均准确率： 0.8466426357288056\n"
     ]
    },
    {
     "data": {
      "application/vnd.jupyter.widget-view+json": {
       "model_id": "41b13d0f6afc45f098985d20da2ce929",
       "version_major": 2,
       "version_minor": 0
      },
      "text/plain": [
       "  0%|          | 0/16 [00:00<?, ?it/s]"
      ]
     },
     "metadata": {},
     "output_type": "display_data"
    },
    {
     "name": "stdout",
     "output_type": "stream",
     "text": [
      "目前位置平均准确率： 0.8204513184778537\n"
     ]
    },
    {
     "data": {
      "application/vnd.jupyter.widget-view+json": {
       "model_id": "244f0a90702548f2b3abfaf03e685c98",
       "version_major": 2,
       "version_minor": 0
      },
      "text/plain": [
       "  0%|          | 0/16 [00:00<?, ?it/s]"
      ]
     },
     "metadata": {},
     "output_type": "display_data"
    },
    {
     "name": "stdout",
     "output_type": "stream",
     "text": [
      "目前位置平均准确率： 0.8049951325828811\n"
     ]
    },
    {
     "data": {
      "application/vnd.jupyter.widget-view+json": {
       "model_id": "204c26acc21d4fc593579d36c6e551fd",
       "version_major": 2,
       "version_minor": 0
      },
      "text/plain": [
       "  0%|          | 0/16 [00:00<?, ?it/s]"
      ]
     },
     "metadata": {},
     "output_type": "display_data"
    },
    {
     "name": "stdout",
     "output_type": "stream",
     "text": [
      "目前位置平均准确率： 0.8087668043331334\n"
     ]
    },
    {
     "data": {
      "application/vnd.jupyter.widget-view+json": {
       "model_id": "4883471214fa4053a56983e404d45b1b",
       "version_major": 2,
       "version_minor": 0
      },
      "text/plain": [
       "  0%|          | 0/16 [00:00<?, ?it/s]"
      ]
     },
     "metadata": {},
     "output_type": "display_data"
    },
    {
     "name": "stdout",
     "output_type": "stream",
     "text": [
      "目前位置平均准确率： 0.8117838370370609\n"
     ]
    },
    {
     "data": {
      "application/vnd.jupyter.widget-view+json": {
       "model_id": "1efb8c16162c4513991af21a5fdbbf84",
       "version_major": 2,
       "version_minor": 0
      },
      "text/plain": [
       "  0%|          | 0/16 [00:00<?, ?it/s]"
      ]
     },
     "metadata": {},
     "output_type": "display_data"
    },
    {
     "name": "stdout",
     "output_type": "stream",
     "text": [
      "No sub-structure match found between the reference and probe mol 没有子结构符合\n",
      "目前位置平均准确率： 0.8031792831432646\n"
     ]
    },
    {
     "data": {
      "application/vnd.jupyter.widget-view+json": {
       "model_id": "7a2d66e59da1452f80e79a6da6913253",
       "version_major": 2,
       "version_minor": 0
      },
      "text/plain": [
       "  0%|          | 0/16 [00:00<?, ?it/s]"
      ]
     },
     "metadata": {},
     "output_type": "display_data"
    },
    {
     "name": "stdout",
     "output_type": "stream",
     "text": [
      "目前位置平均准确率： 0.8132340554186757\n"
     ]
    },
    {
     "data": {
      "application/vnd.jupyter.widget-view+json": {
       "model_id": "3ed1cdf9897e49319a4e71a91de8060f",
       "version_major": 2,
       "version_minor": 0
      },
      "text/plain": [
       "  0%|          | 0/16 [00:00<?, ?it/s]"
      ]
     },
     "metadata": {},
     "output_type": "display_data"
    },
    {
     "name": "stdout",
     "output_type": "stream",
     "text": [
      "目前位置平均准确率： 0.8130023145424158\n"
     ]
    },
    {
     "data": {
      "application/vnd.jupyter.widget-view+json": {
       "model_id": "d6dc19a8134a46cd8f7f7b33e63c390c",
       "version_major": 2,
       "version_minor": 0
      },
      "text/plain": [
       "  0%|          | 0/16 [00:00<?, ?it/s]"
      ]
     },
     "metadata": {},
     "output_type": "display_data"
    },
    {
     "name": "stdout",
     "output_type": "stream",
     "text": [
      "目前位置平均准确率： 0.8069191889599299\n"
     ]
    },
    {
     "data": {
      "application/vnd.jupyter.widget-view+json": {
       "model_id": "9f12d13e03254bb1a42f477884b7dd8c",
       "version_major": 2,
       "version_minor": 0
      },
      "text/plain": [
       "  0%|          | 0/16 [00:00<?, ?it/s]"
      ]
     },
     "metadata": {},
     "output_type": "display_data"
    },
    {
     "name": "stdout",
     "output_type": "stream",
     "text": [
      "目前位置平均准确率： 0.8037729272855451\n"
     ]
    },
    {
     "data": {
      "application/vnd.jupyter.widget-view+json": {
       "model_id": "78b5f432ca02490289056a6619471cbd",
       "version_major": 2,
       "version_minor": 0
      },
      "text/plain": [
       "  0%|          | 0/16 [00:00<?, ?it/s]"
      ]
     },
     "metadata": {},
     "output_type": "display_data"
    },
    {
     "name": "stdout",
     "output_type": "stream",
     "text": [
      "目前位置平均准确率： 0.7994075008946447\n"
     ]
    },
    {
     "data": {
      "application/vnd.jupyter.widget-view+json": {
       "model_id": "736cb38a3f1c455d86fed84208c30de6",
       "version_major": 2,
       "version_minor": 0
      },
      "text/plain": [
       "  0%|          | 0/16 [00:00<?, ?it/s]"
      ]
     },
     "metadata": {},
     "output_type": "display_data"
    },
    {
     "name": "stdout",
     "output_type": "stream",
     "text": [
      "No sub-structure match found between the reference and probe mol 没有子结构符合\n",
      "目前位置平均准确率： 0.8042416323271848\n"
     ]
    },
    {
     "data": {
      "application/vnd.jupyter.widget-view+json": {
       "model_id": "18509e5209ff4738895239656cab7107",
       "version_major": 2,
       "version_minor": 0
      },
      "text/plain": [
       "  0%|          | 0/16 [00:00<?, ?it/s]"
      ]
     },
     "metadata": {},
     "output_type": "display_data"
    },
    {
     "name": "stdout",
     "output_type": "stream",
     "text": [
      "目前位置平均准确率： 0.8129132606199553\n"
     ]
    },
    {
     "data": {
      "application/vnd.jupyter.widget-view+json": {
       "model_id": "586d29d98a90462b96664136a9cb9cc3",
       "version_major": 2,
       "version_minor": 0
      },
      "text/plain": [
       "  0%|          | 0/16 [00:00<?, ?it/s]"
      ]
     },
     "metadata": {},
     "output_type": "display_data"
    },
    {
     "name": "stdout",
     "output_type": "stream",
     "text": [
      "目前位置平均准确率： 0.8194292025436584\n"
     ]
    },
    {
     "data": {
      "application/vnd.jupyter.widget-view+json": {
       "model_id": "8931888e71dd43faa5f59ba62ce7d57a",
       "version_major": 2,
       "version_minor": 0
      },
      "text/plain": [
       "  0%|          | 0/16 [00:00<?, ?it/s]"
      ]
     },
     "metadata": {},
     "output_type": "display_data"
    },
    {
     "name": "stdout",
     "output_type": "stream",
     "text": [
      "No sub-structure match found between the reference and probe mol 没有子结构符合\n",
      "目前位置平均准确率： 0.8188188309743751\n"
     ]
    },
    {
     "data": {
      "application/vnd.jupyter.widget-view+json": {
       "model_id": "d90d7141bc014c49bfcc1b3346ba7558",
       "version_major": 2,
       "version_minor": 0
      },
      "text/plain": [
       "  0%|          | 0/16 [00:00<?, ?it/s]"
      ]
     },
     "metadata": {},
     "output_type": "display_data"
    },
    {
     "name": "stdout",
     "output_type": "stream",
     "text": [
      "目前位置平均准确率： 0.8165758535644649\n"
     ]
    },
    {
     "data": {
      "application/vnd.jupyter.widget-view+json": {
       "model_id": "be5d85d289cc472fbb442e76f8e979e3",
       "version_major": 2,
       "version_minor": 0
      },
      "text/plain": [
       "  0%|          | 0/16 [00:00<?, ?it/s]"
      ]
     },
     "metadata": {},
     "output_type": "display_data"
    },
    {
     "name": "stdout",
     "output_type": "stream",
     "text": [
      "目前位置平均准确率： 0.8142909689012511\n"
     ]
    },
    {
     "data": {
      "application/vnd.jupyter.widget-view+json": {
       "model_id": "9e51f79fb3d04bf39882e64d02f4941e",
       "version_major": 2,
       "version_minor": 0
      },
      "text/plain": [
       "  0%|          | 0/16 [00:00<?, ?it/s]"
      ]
     },
     "metadata": {},
     "output_type": "display_data"
    },
    {
     "name": "stdout",
     "output_type": "stream",
     "text": [
      "目前位置平均准确率： 0.8141728504021797\n"
     ]
    },
    {
     "data": {
      "application/vnd.jupyter.widget-view+json": {
       "model_id": "b34aef153f7e44b0afc69b27aca1f412",
       "version_major": 2,
       "version_minor": 0
      },
      "text/plain": [
       "  0%|          | 0/16 [00:00<?, ?it/s]"
      ]
     },
     "metadata": {},
     "output_type": "display_data"
    },
    {
     "name": "stdout",
     "output_type": "stream",
     "text": [
      "No sub-structure match found between the reference and probe mol 没有子结构符合\n",
      "目前位置平均准确率： 0.8145548579039609\n"
     ]
    },
    {
     "data": {
      "application/vnd.jupyter.widget-view+json": {
       "model_id": "1f33bbd93dd24c53b4601ab31033984e",
       "version_major": 2,
       "version_minor": 0
      },
      "text/plain": [
       "  0%|          | 0/16 [00:00<?, ?it/s]"
      ]
     },
     "metadata": {},
     "output_type": "display_data"
    },
    {
     "name": "stdout",
     "output_type": "stream",
     "text": [
      "目前位置平均准确率： 0.8110983001671287\n"
     ]
    },
    {
     "data": {
      "application/vnd.jupyter.widget-view+json": {
       "model_id": "5f4c1cc5a1964d0e8db87b61df121fca",
       "version_major": 2,
       "version_minor": 0
      },
      "text/plain": [
       "  0%|          | 0/16 [00:00<?, ?it/s]"
      ]
     },
     "metadata": {},
     "output_type": "display_data"
    },
    {
     "name": "stdout",
     "output_type": "stream",
     "text": [
      "目前位置平均准确率： 0.816198504151497\n"
     ]
    },
    {
     "data": {
      "application/vnd.jupyter.widget-view+json": {
       "model_id": "234299bfaf674ca1bb2ec29a99b7d15d",
       "version_major": 2,
       "version_minor": 0
      },
      "text/plain": [
       "  0%|          | 0/16 [00:00<?, ?it/s]"
      ]
     },
     "metadata": {},
     "output_type": "display_data"
    },
    {
     "name": "stdout",
     "output_type": "stream",
     "text": [
      "目前位置平均准确率： 0.8177682257544271\n"
     ]
    },
    {
     "data": {
      "application/vnd.jupyter.widget-view+json": {
       "model_id": "9f5ec766f12c417da3d0163944c272a1",
       "version_major": 2,
       "version_minor": 0
      },
      "text/plain": [
       "  0%|          | 0/16 [00:00<?, ?it/s]"
      ]
     },
     "metadata": {},
     "output_type": "display_data"
    },
    {
     "name": "stdout",
     "output_type": "stream",
     "text": [
      "No sub-structure match found between the reference and probe mol 没有子结构符合\n",
      "目前位置平均准确率： 0.8176796079549178\n"
     ]
    },
    {
     "data": {
      "application/vnd.jupyter.widget-view+json": {
       "model_id": "af5705e72fd74b0388444c31b36cb485",
       "version_major": 2,
       "version_minor": 0
      },
      "text/plain": [
       "  0%|          | 0/16 [00:00<?, ?it/s]"
      ]
     },
     "metadata": {},
     "output_type": "display_data"
    },
    {
     "name": "stdout",
     "output_type": "stream",
     "text": [
      "目前位置平均准确率： 0.8166876116875783\n"
     ]
    },
    {
     "data": {
      "application/vnd.jupyter.widget-view+json": {
       "model_id": "7345220ecaaf409f89cc8940511af370",
       "version_major": 2,
       "version_minor": 0
      },
      "text/plain": [
       "  0%|          | 0/16 [00:00<?, ?it/s]"
      ]
     },
     "metadata": {},
     "output_type": "display_data"
    },
    {
     "name": "stdout",
     "output_type": "stream",
     "text": [
      "目前位置平均准确率： 0.8178678755010288\n"
     ]
    },
    {
     "data": {
      "application/vnd.jupyter.widget-view+json": {
       "model_id": "425ef30044214632a2fba98d396fd59a",
       "version_major": 2,
       "version_minor": 0
      },
      "text/plain": [
       "  0%|          | 0/16 [00:00<?, ?it/s]"
      ]
     },
     "metadata": {},
     "output_type": "display_data"
    },
    {
     "name": "stdout",
     "output_type": "stream",
     "text": [
      "[0, 1, 2, 3] rdkit计算二面角失败，这个二面角不旋转了\n",
      "[0, 1, 2, 3] rdkit计算二面角失败，这个二面角不旋转了\n",
      "[0, 1, 2, 3] rdkit计算二面角失败，这个二面角不旋转了\n",
      "[0, 1, 2, 3] rdkit计算二面角失败，这个二面角不旋转了\n",
      "目前位置平均准确率： 0.8207335917119265\n"
     ]
    },
    {
     "data": {
      "application/vnd.jupyter.widget-view+json": {
       "model_id": "c025f2e510e34da6aabd6440208b7ae7",
       "version_major": 2,
       "version_minor": 0
      },
      "text/plain": [
       "  0%|          | 0/16 [00:00<?, ?it/s]"
      ]
     },
     "metadata": {},
     "output_type": "display_data"
    },
    {
     "name": "stdout",
     "output_type": "stream",
     "text": [
      "目前位置平均准确率： 0.8210372118929159\n"
     ]
    },
    {
     "data": {
      "application/vnd.jupyter.widget-view+json": {
       "model_id": "0afdeabcb2ee404cb541cf8dbb9e8280",
       "version_major": 2,
       "version_minor": 0
      },
      "text/plain": [
       "  0%|          | 0/16 [00:00<?, ?it/s]"
      ]
     },
     "metadata": {},
     "output_type": "display_data"
    },
    {
     "name": "stdout",
     "output_type": "stream",
     "text": [
      "目前位置平均准确率： 0.8175520245824239\n"
     ]
    },
    {
     "data": {
      "application/vnd.jupyter.widget-view+json": {
       "model_id": "e2803d4c27f44d8288ff287116bfc067",
       "version_major": 2,
       "version_minor": 0
      },
      "text/plain": [
       "  0%|          | 0/16 [00:00<?, ?it/s]"
      ]
     },
     "metadata": {},
     "output_type": "display_data"
    },
    {
     "name": "stdout",
     "output_type": "stream",
     "text": [
      "目前位置平均准确率： 0.8174813051133486\n"
     ]
    },
    {
     "data": {
      "application/vnd.jupyter.widget-view+json": {
       "model_id": "8b2deffa650b4beeb790e7f7f4e9063e",
       "version_major": 2,
       "version_minor": 0
      },
      "text/plain": [
       "  0%|          | 0/16 [00:00<?, ?it/s]"
      ]
     },
     "metadata": {},
     "output_type": "display_data"
    },
    {
     "name": "stdout",
     "output_type": "stream",
     "text": [
      "目前位置平均准确率： 0.818280790032955\n"
     ]
    },
    {
     "data": {
      "application/vnd.jupyter.widget-view+json": {
       "model_id": "b41dbccbe0904d1a92f1a6526dc1a3d9",
       "version_major": 2,
       "version_minor": 0
      },
      "text/plain": [
       "  0%|          | 0/16 [00:00<?, ?it/s]"
      ]
     },
     "metadata": {},
     "output_type": "display_data"
    },
    {
     "name": "stdout",
     "output_type": "stream",
     "text": [
      "目前位置平均准确率： 0.8170015639891239\n"
     ]
    },
    {
     "data": {
      "application/vnd.jupyter.widget-view+json": {
       "model_id": "60759af0db6e4b93a78bef0b085b8a6a",
       "version_major": 2,
       "version_minor": 0
      },
      "text/plain": [
       "  0%|          | 0/16 [00:00<?, ?it/s]"
      ]
     },
     "metadata": {},
     "output_type": "display_data"
    },
    {
     "name": "stdout",
     "output_type": "stream",
     "text": [
      "目前位置平均准确率： 0.819868883274564\n"
     ]
    },
    {
     "data": {
      "application/vnd.jupyter.widget-view+json": {
       "model_id": "98cc1428a0224983af224eb3666beccc",
       "version_major": 2,
       "version_minor": 0
      },
      "text/plain": [
       "  0%|          | 0/16 [00:00<?, ?it/s]"
      ]
     },
     "metadata": {},
     "output_type": "display_data"
    },
    {
     "name": "stdout",
     "output_type": "stream",
     "text": [
      "目前位置平均准确率： 0.8212826819836693\n"
     ]
    },
    {
     "data": {
      "application/vnd.jupyter.widget-view+json": {
       "model_id": "6f9d469149e144cea918efec61d0f487",
       "version_major": 2,
       "version_minor": 0
      },
      "text/plain": [
       "  0%|          | 0/16 [00:00<?, ?it/s]"
      ]
     },
     "metadata": {},
     "output_type": "display_data"
    },
    {
     "name": "stdout",
     "output_type": "stream",
     "text": [
      "目前位置平均准确率： 0.8209675589963812\n"
     ]
    },
    {
     "data": {
      "application/vnd.jupyter.widget-view+json": {
       "model_id": "7d119603c9c74e45921710e1fbb1f05e",
       "version_major": 2,
       "version_minor": 0
      },
      "text/plain": [
       "  0%|          | 0/16 [00:00<?, ?it/s]"
      ]
     },
     "metadata": {},
     "output_type": "display_data"
    },
    {
     "name": "stdout",
     "output_type": "stream",
     "text": [
      "目前位置平均准确率： 0.8223704598342167\n"
     ]
    },
    {
     "data": {
      "application/vnd.jupyter.widget-view+json": {
       "model_id": "d247c835acc748bfb843671186e78182",
       "version_major": 2,
       "version_minor": 0
      },
      "text/plain": [
       "  0%|          | 0/16 [00:00<?, ?it/s]"
      ]
     },
     "metadata": {},
     "output_type": "display_data"
    },
    {
     "name": "stdout",
     "output_type": "stream",
     "text": [
      "目前位置平均准确率： 0.8222396631520842\n"
     ]
    },
    {
     "data": {
      "application/vnd.jupyter.widget-view+json": {
       "model_id": "0388bce5cbc04804afd397c11b0c5b24",
       "version_major": 2,
       "version_minor": 0
      },
      "text/plain": [
       "  0%|          | 0/16 [00:00<?, ?it/s]"
      ]
     },
     "metadata": {},
     "output_type": "display_data"
    },
    {
     "name": "stdout",
     "output_type": "stream",
     "text": [
      "目前位置平均准确率： 0.821970868260971\n"
     ]
    },
    {
     "data": {
      "application/vnd.jupyter.widget-view+json": {
       "model_id": "a9380b4e4d78477b81d7e001f85a477e",
       "version_major": 2,
       "version_minor": 0
      },
      "text/plain": [
       "  0%|          | 0/16 [00:00<?, ?it/s]"
      ]
     },
     "metadata": {},
     "output_type": "display_data"
    },
    {
     "name": "stdout",
     "output_type": "stream",
     "text": [
      "目前位置平均准确率： 0.8223701217045569\n"
     ]
    },
    {
     "data": {
      "application/vnd.jupyter.widget-view+json": {
       "model_id": "ee73c77fb89e44d6afefdacb7ef0702c",
       "version_major": 2,
       "version_minor": 0
      },
      "text/plain": [
       "  0%|          | 0/16 [00:00<?, ?it/s]"
      ]
     },
     "metadata": {},
     "output_type": "display_data"
    },
    {
     "name": "stdout",
     "output_type": "stream",
     "text": [
      "目前位置平均准确率： 0.8232097471869054\n"
     ]
    },
    {
     "data": {
      "application/vnd.jupyter.widget-view+json": {
       "model_id": "fd5ea31f755b450ab08273c6948de309",
       "version_major": 2,
       "version_minor": 0
      },
      "text/plain": [
       "  0%|          | 0/16 [00:00<?, ?it/s]"
      ]
     },
     "metadata": {},
     "output_type": "display_data"
    },
    {
     "name": "stdout",
     "output_type": "stream",
     "text": [
      "No sub-structure match found between the reference and probe mol 没有子结构符合\n",
      "No sub-structure match found between the reference and probe mol 没有子结构符合\n",
      "No sub-structure match found between the reference and probe mol 没有子结构符合\n",
      "目前位置平均准确率： 0.8221642380989564\n"
     ]
    },
    {
     "data": {
      "application/vnd.jupyter.widget-view+json": {
       "model_id": "79238a1d190a4966b64fc791ffdea464",
       "version_major": 2,
       "version_minor": 0
      },
      "text/plain": [
       "  0%|          | 0/16 [00:00<?, ?it/s]"
      ]
     },
     "metadata": {},
     "output_type": "display_data"
    },
    {
     "name": "stdout",
     "output_type": "stream",
     "text": [
      "目前位置平均准确率： 0.8204478471736757\n"
     ]
    },
    {
     "data": {
      "application/vnd.jupyter.widget-view+json": {
       "model_id": "bec9cbba24394963889de3c273b69268",
       "version_major": 2,
       "version_minor": 0
      },
      "text/plain": [
       "  0%|          | 0/16 [00:00<?, ?it/s]"
      ]
     },
     "metadata": {},
     "output_type": "display_data"
    },
    {
     "name": "stdout",
     "output_type": "stream",
     "text": [
      "No sub-structure match found between the reference and probe mol 没有子结构符合\n",
      "目前位置平均准确率： 0.82146284611086\n"
     ]
    },
    {
     "data": {
      "application/vnd.jupyter.widget-view+json": {
       "model_id": "1b4730e5713d49259668495ea48b7a8e",
       "version_major": 2,
       "version_minor": 0
      },
      "text/plain": [
       "  0%|          | 0/16 [00:00<?, ?it/s]"
      ]
     },
     "metadata": {},
     "output_type": "display_data"
    },
    {
     "name": "stdout",
     "output_type": "stream",
     "text": [
      "目前位置平均准确率： 0.8185961411308256\n"
     ]
    },
    {
     "data": {
      "application/vnd.jupyter.widget-view+json": {
       "model_id": "e30872e4bf55433c9220f252c98ea1af",
       "version_major": 2,
       "version_minor": 0
      },
      "text/plain": [
       "  0%|          | 0/16 [00:00<?, ?it/s]"
      ]
     },
     "metadata": {},
     "output_type": "display_data"
    },
    {
     "name": "stdout",
     "output_type": "stream",
     "text": [
      "No sub-structure match found between the reference and probe mol 没有子结构符合\n",
      "目前位置平均准确率： 0.8176762749235698\n"
     ]
    },
    {
     "data": {
      "application/vnd.jupyter.widget-view+json": {
       "model_id": "41fa92c1f72e48f6a3ef9771e4620197",
       "version_major": 2,
       "version_minor": 0
      },
      "text/plain": [
       "  0%|          | 0/16 [00:00<?, ?it/s]"
      ]
     },
     "metadata": {},
     "output_type": "display_data"
    },
    {
     "name": "stdout",
     "output_type": "stream",
     "text": [
      "目前位置平均准确率： 0.819862505163251\n"
     ]
    },
    {
     "data": {
      "application/vnd.jupyter.widget-view+json": {
       "model_id": "3738e4852ede42b9bf8ef2cb2498ee24",
       "version_major": 2,
       "version_minor": 0
      },
      "text/plain": [
       "  0%|          | 0/16 [00:00<?, ?it/s]"
      ]
     },
     "metadata": {},
     "output_type": "display_data"
    },
    {
     "name": "stdout",
     "output_type": "stream",
     "text": [
      "目前位置平均准确率： 0.8206755757941733\n"
     ]
    },
    {
     "data": {
      "application/vnd.jupyter.widget-view+json": {
       "model_id": "85bb714b2d1a4d07bfaeeef10439b2a4",
       "version_major": 2,
       "version_minor": 0
      },
      "text/plain": [
       "  0%|          | 0/16 [00:00<?, ?it/s]"
      ]
     },
     "metadata": {},
     "output_type": "display_data"
    },
    {
     "name": "stdout",
     "output_type": "stream",
     "text": [
      "目前位置平均准确率： 0.8176456643082769\n"
     ]
    },
    {
     "data": {
      "application/vnd.jupyter.widget-view+json": {
       "model_id": "87963b5ef0c54f07b07e567a352c0351",
       "version_major": 2,
       "version_minor": 0
      },
      "text/plain": [
       "  0%|          | 0/16 [00:00<?, ?it/s]"
      ]
     },
     "metadata": {},
     "output_type": "display_data"
    },
    {
     "name": "stdout",
     "output_type": "stream",
     "text": [
      "目前位置平均准确率： 0.8181494492759647\n"
     ]
    },
    {
     "data": {
      "application/vnd.jupyter.widget-view+json": {
       "model_id": "84b22175f0b54760b160eb14801e2c41",
       "version_major": 2,
       "version_minor": 0
      },
      "text/plain": [
       "  0%|          | 0/16 [00:00<?, ?it/s]"
      ]
     },
     "metadata": {},
     "output_type": "display_data"
    },
    {
     "name": "stdout",
     "output_type": "stream",
     "text": [
      "目前位置平均准确率： 0.8163713359798425\n"
     ]
    },
    {
     "data": {
      "application/vnd.jupyter.widget-view+json": {
       "model_id": "2ae8a0b6d75a4705b15029c01adff1d1",
       "version_major": 2,
       "version_minor": 0
      },
      "text/plain": [
       "  0%|          | 0/16 [00:00<?, ?it/s]"
      ]
     },
     "metadata": {},
     "output_type": "display_data"
    },
    {
     "name": "stdout",
     "output_type": "stream",
     "text": [
      "目前位置平均准确率： 0.8176326890902795\n"
     ]
    },
    {
     "data": {
      "application/vnd.jupyter.widget-view+json": {
       "model_id": "d167022e506c48d2801af4d0a23c5e14",
       "version_major": 2,
       "version_minor": 0
      },
      "text/plain": [
       "  0%|          | 0/16 [00:00<?, ?it/s]"
      ]
     },
     "metadata": {},
     "output_type": "display_data"
    },
    {
     "name": "stdout",
     "output_type": "stream",
     "text": [
      "目前位置平均准确率： 0.8179498318075487\n"
     ]
    },
    {
     "data": {
      "application/vnd.jupyter.widget-view+json": {
       "model_id": "aa14899749d441df9a57a686b9630aeb",
       "version_major": 2,
       "version_minor": 0
      },
      "text/plain": [
       "  0%|          | 0/16 [00:00<?, ?it/s]"
      ]
     },
     "metadata": {},
     "output_type": "display_data"
    },
    {
     "name": "stdout",
     "output_type": "stream",
     "text": [
      "目前位置平均准确率： 0.8187638499413504\n"
     ]
    },
    {
     "data": {
      "application/vnd.jupyter.widget-view+json": {
       "model_id": "2cc594b3d8d94d1184e7c86c4ebf4c43",
       "version_major": 2,
       "version_minor": 0
      },
      "text/plain": [
       "  0%|          | 0/16 [00:00<?, ?it/s]"
      ]
     },
     "metadata": {},
     "output_type": "display_data"
    },
    {
     "name": "stdout",
     "output_type": "stream",
     "text": [
      "目前位置平均准确率： 0.8191466994252028\n"
     ]
    },
    {
     "data": {
      "application/vnd.jupyter.widget-view+json": {
       "model_id": "da26be278f464e57aa7e97cfe9bae6b9",
       "version_major": 2,
       "version_minor": 0
      },
      "text/plain": [
       "  0%|          | 0/16 [00:00<?, ?it/s]"
      ]
     },
     "metadata": {},
     "output_type": "display_data"
    },
    {
     "name": "stdout",
     "output_type": "stream",
     "text": [
      "目前位置平均准确率： 0.8170047911851942\n"
     ]
    },
    {
     "data": {
      "application/vnd.jupyter.widget-view+json": {
       "model_id": "cbcffd0f361e4ec3953547a6e5e50280",
       "version_major": 2,
       "version_minor": 0
      },
      "text/plain": [
       "  0%|          | 0/16 [00:00<?, ?it/s]"
      ]
     },
     "metadata": {},
     "output_type": "display_data"
    },
    {
     "name": "stdout",
     "output_type": "stream",
     "text": [
      "目前位置平均准确率： 0.8177138681922765\n"
     ]
    },
    {
     "data": {
      "application/vnd.jupyter.widget-view+json": {
       "model_id": "6ae33855950840fd9a71fb04831c6ce7",
       "version_major": 2,
       "version_minor": 0
      },
      "text/plain": [
       "  0%|          | 0/16 [00:00<?, ?it/s]"
      ]
     },
     "metadata": {},
     "output_type": "display_data"
    },
    {
     "name": "stdout",
     "output_type": "stream",
     "text": [
      "目前位置平均准确率： 0.817102740198796\n"
     ]
    },
    {
     "data": {
      "application/vnd.jupyter.widget-view+json": {
       "model_id": "e3f915fda9f24e3ba4ef28d9374e35af",
       "version_major": 2,
       "version_minor": 0
      },
      "text/plain": [
       "  0%|          | 0/16 [00:00<?, ?it/s]"
      ]
     },
     "metadata": {},
     "output_type": "display_data"
    },
    {
     "name": "stdout",
     "output_type": "stream",
     "text": [
      "目前位置平均准确率： 0.818350680645901\n"
     ]
    },
    {
     "data": {
      "application/vnd.jupyter.widget-view+json": {
       "model_id": "4aeda37e73bd465484a73e9efde5c525",
       "version_major": 2,
       "version_minor": 0
      },
      "text/plain": [
       "  0%|          | 0/16 [00:00<?, ?it/s]"
      ]
     },
     "metadata": {},
     "output_type": "display_data"
    },
    {
     "name": "stdout",
     "output_type": "stream",
     "text": [
      "目前位置平均准确率： 0.8186402802592829\n"
     ]
    },
    {
     "data": {
      "application/vnd.jupyter.widget-view+json": {
       "model_id": "9a2505d5199c40639b48bb8b2ba8aef3",
       "version_major": 2,
       "version_minor": 0
      },
      "text/plain": [
       "  0%|          | 0/16 [00:00<?, ?it/s]"
      ]
     },
     "metadata": {},
     "output_type": "display_data"
    },
    {
     "name": "stdout",
     "output_type": "stream",
     "text": [
      "目前位置平均准确率： 0.818357762431838\n"
     ]
    },
    {
     "data": {
      "application/vnd.jupyter.widget-view+json": {
       "model_id": "33fb60ed63e144d4af04f34b7895ec4f",
       "version_major": 2,
       "version_minor": 0
      },
      "text/plain": [
       "  0%|          | 0/16 [00:00<?, ?it/s]"
      ]
     },
     "metadata": {},
     "output_type": "display_data"
    },
    {
     "name": "stdout",
     "output_type": "stream",
     "text": [
      "目前位置平均准确率： 0.8194667669294802\n"
     ]
    },
    {
     "data": {
      "application/vnd.jupyter.widget-view+json": {
       "model_id": "e2ed2c07b69a4b80a8a5501d07b34571",
       "version_major": 2,
       "version_minor": 0
      },
      "text/plain": [
       "  0%|          | 0/16 [00:00<?, ?it/s]"
      ]
     },
     "metadata": {},
     "output_type": "display_data"
    },
    {
     "name": "stdout",
     "output_type": "stream",
     "text": [
      "目前位置平均准确率： 0.8210695701605749\n"
     ]
    },
    {
     "data": {
      "application/vnd.jupyter.widget-view+json": {
       "model_id": "4a5866733fd84bf1949ad3d0511cc178",
       "version_major": 2,
       "version_minor": 0
      },
      "text/plain": [
       "  0%|          | 0/16 [00:00<?, ?it/s]"
      ]
     },
     "metadata": {},
     "output_type": "display_data"
    },
    {
     "name": "stdout",
     "output_type": "stream",
     "text": [
      "目前位置平均准确率： 0.8225989708319739\n"
     ]
    },
    {
     "data": {
      "application/vnd.jupyter.widget-view+json": {
       "model_id": "d321657ce2584ec795150cac58ef0be3",
       "version_major": 2,
       "version_minor": 0
      },
      "text/plain": [
       "  0%|          | 0/16 [00:00<?, ?it/s]"
      ]
     },
     "metadata": {},
     "output_type": "display_data"
    },
    {
     "name": "stdout",
     "output_type": "stream",
     "text": [
      "目前位置平均准确率： 0.8224869787589937\n"
     ]
    },
    {
     "data": {
      "application/vnd.jupyter.widget-view+json": {
       "model_id": "dabc6e29dbe744d9b2dceda25f40048c",
       "version_major": 2,
       "version_minor": 0
      },
      "text/plain": [
       "  0%|          | 0/16 [00:00<?, ?it/s]"
      ]
     },
     "metadata": {},
     "output_type": "display_data"
    },
    {
     "name": "stdout",
     "output_type": "stream",
     "text": [
      "No sub-structure match found between the reference and probe mol 没有子结构符合\n",
      "目前位置平均准确率： 0.821966185543301\n"
     ]
    },
    {
     "data": {
      "application/vnd.jupyter.widget-view+json": {
       "model_id": "c0d9441b332c42cbb077ec07ed2a5010",
       "version_major": 2,
       "version_minor": 0
      },
      "text/plain": [
       "  0%|          | 0/16 [00:00<?, ?it/s]"
      ]
     },
     "metadata": {},
     "output_type": "display_data"
    },
    {
     "name": "stdout",
     "output_type": "stream",
     "text": [
      "目前位置平均准确率： 0.8201673487115125\n"
     ]
    },
    {
     "data": {
      "application/vnd.jupyter.widget-view+json": {
       "model_id": "0dcd79cbad4a4eb28d7001a2084e194e",
       "version_major": 2,
       "version_minor": 0
      },
      "text/plain": [
       "  0%|          | 0/4 [00:00<?, ?it/s]"
      ]
     },
     "metadata": {},
     "output_type": "display_data"
    },
    {
     "name": "stdout",
     "output_type": "stream",
     "text": [
      "目前位置平均准确率： 0.8194192472317466\n"
     ]
    },
    {
     "ename": "ValueError",
     "evalue": "too many values to unpack (expected 7)",
     "output_type": "error",
     "traceback": [
      "\u001b[0;31m---------------------------------------------------------------------------\u001b[0m",
      "\u001b[0;31mValueError\u001b[0m                                Traceback (most recent call last)",
      "\u001b[0;32m/tmp/ipykernel_24205/3828147812.py\u001b[0m in \u001b[0;36m<module>\u001b[0;34m\u001b[0m\n\u001b[1;32m     14\u001b[0m                                                             \u001b[0mmax_re\u001b[0m \u001b[0;34m=\u001b[0m \u001b[0;36m6\u001b[0m\u001b[0;34m,\u001b[0m\u001b[0;34m\u001b[0m\u001b[0;34m\u001b[0m\u001b[0m\n\u001b[1;32m     15\u001b[0m                                                             \u001b[0mkn\u001b[0m \u001b[0;34m=\u001b[0m \u001b[0;36m2\u001b[0m\u001b[0;34m,\u001b[0m\u001b[0;34m\u001b[0m\u001b[0;34m\u001b[0m\u001b[0m\n\u001b[0;32m---> 16\u001b[0;31m                                                             \u001b[0mf_percent\u001b[0m\u001b[0;34m=\u001b[0m\u001b[0;36m0.25\u001b[0m\u001b[0;34m,\u001b[0m\u001b[0;34m\u001b[0m\u001b[0;34m\u001b[0m\u001b[0m\n\u001b[0m\u001b[1;32m     17\u001b[0m                                                             \u001b[0;31m# part_batch = [0,20]\u001b[0m\u001b[0;34m\u001b[0m\u001b[0;34m\u001b[0m\u001b[0;34m\u001b[0m\u001b[0m\n\u001b[1;32m     18\u001b[0m                                                                                 )\n",
      "\u001b[0;31mValueError\u001b[0m: too many values to unpack (expected 7)"
     ]
    }
   ],
   "source": [
    "print (time.strftime(\"%Y-%m-%d %H:%M:%S\", time.localtime()))\n",
    "model.noise_scale = 100\n",
    "\n",
    "matr_,matp_,covr_,covp_,df,\\\n",
    "    lab_angles_allconfs_list_list,angles_allconfs_list_list,_list= generate_pred_confs(model, test_loader, \n",
    "                                                            loss_criterion, loss_criterion_, \n",
    "                                                            # save_conf_root=\"./confs_save\",\n",
    "                                                            chem_dataset_dir = \"/home/admin/work/geomol/rdkit_folder/drugs\",\n",
    "                                                            ori_confs_path  = test_dic_path,                                                                 \n",
    "                                                            optimizer=None, \n",
    "                                                            debug = False,\n",
    "                                                            angle_range_list = [(-20,20),(40,100)],\n",
    "                                                            k = \"2\",\n",
    "                                                            max_re = 6,\n",
    "                                                            kn = 2,\n",
    "                                                            f_percent=0.25,\n",
    "                                                            # part_batch = [0,20]\n",
    "                                                                                )\n",
    "\n",
    "\n",
    "time_save = time.strftime(\"%Y-%m-%d %H:%M:%S\", time.localtime())\n",
    "print(time_save)\n",
    "pickle_.save(f\"./result_save/result_{nam}_{time_save}.pkl\", (matr_,matp_,covr_,covp_,df))"
   ]
  },
  {
   "cell_type": "code",
   "execution_count": null,
   "id": "73455e6f",
   "metadata": {},
   "outputs": [],
   "source": []
  },
  {
   "cell_type": "code",
   "execution_count": null,
   "id": "dc23a18f",
   "metadata": {},
   "outputs": [],
   "source": []
  },
  {
   "cell_type": "code",
   "execution_count": null,
   "id": "41768995",
   "metadata": {},
   "outputs": [],
   "source": []
  },
  {
   "cell_type": "code",
   "execution_count": null,
   "id": "ba2b4699",
   "metadata": {},
   "outputs": [],
   "source": []
  },
  {
   "cell_type": "code",
   "execution_count": null,
   "id": "31745574",
   "metadata": {},
   "outputs": [],
   "source": []
  },
  {
   "cell_type": "code",
   "execution_count": 30,
   "id": "5e7dfb46",
   "metadata": {},
   "outputs": [
    {
     "name": "stdout",
     "output_type": "stream",
     "text": [
      "将模型保存到 model_save/model_save_main_drugs-Copy3ot_2022-06-12_16h45m12s.pth 中了\n"
     ]
    }
   ],
   "source": [
    "# model save\n",
    "time_save=time.strftime(\"%Y-%m-%d_%Hh%Mm%Ss\", time.localtime())\n",
    "torch.save({\n",
    "#                 'epoch': len(Train_loss),\n",
    "                'model': model.state_dict(),\n",
    "                'model_optimizer': optimizer.state_dict(),\n",
    "\n",
    "#                 \"Train_loss_value\": Train_loss_value,\n",
    "#                 \"Train_loss_sig\": Train_loss_sig,\n",
    "#                 \"Train_loss\": Train_loss,\n",
    "#                 \"Train_acc_sig\": Train_acc_sig,\n",
    "                \n",
    "#                 \"Val_loss_value\": Val_loss_value,\n",
    "#                 \"Val_loss_sig\": Val_loss_sig,\n",
    "#                 \"Val_loss\": Val_loss,\n",
    "#                 \"Val_acc_sig\": Val_acc_sig,\n",
    "    \n",
    "},\n",
    "          f\"model_save/model_save_main_drugs-Copy3ot_{time_save}.pth\")\n",
    "\n",
    "print(\"将模型保存到\", f\"model_save/model_save_main_drugs-Copy3ot_{time_save}.pth\", \"中了\")"
   ]
  },
  {
   "cell_type": "code",
   "execution_count": null,
   "id": "7c5eebfe",
   "metadata": {},
   "outputs": [],
   "source": []
  },
  {
   "cell_type": "code",
   "execution_count": null,
   "id": "5777b0bb",
   "metadata": {},
   "outputs": [],
   "source": []
  },
  {
   "cell_type": "code",
   "execution_count": null,
   "id": "4b562722",
   "metadata": {},
   "outputs": [],
   "source": []
  }
 ],
 "metadata": {
  "kernelspec": {
   "display_name": "Python [conda env:graphormer]",
   "language": "python",
   "name": "graphormer"
  },
  "language_info": {
   "codemirror_mode": {
    "name": "ipython",
    "version": 3
   },
   "file_extension": ".py",
   "mimetype": "text/x-python",
   "name": "python",
   "nbconvert_exporter": "python",
   "pygments_lexer": "ipython3",
   "version": "3.7.11"
  }
 },
 "nbformat": 4,
 "nbformat_minor": 5
}
