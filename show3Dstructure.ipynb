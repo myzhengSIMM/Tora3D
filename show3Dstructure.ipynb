{
 "cells": [
  {
   "cell_type": "code",
   "execution_count": 6,
   "id": "ac2deb5e",
   "metadata": {},
   "outputs": [],
   "source": [
    "from utils_others import get_suppl_from_sdf\n",
    "import os.path as osp\n",
    "import glob\n",
    "\n",
    "from rdkit import Chem\n",
    "\n",
    "from utils_mole import visualize_confs"
   ]
  },
  {
   "cell_type": "code",
   "execution_count": 7,
   "id": "c335a22e",
   "metadata": {},
   "outputs": [],
   "source": [
    "def visualize_1mol_confs(confs_save_path, smiles_f, sdf_f_path,  stick_colorscheme=\"skyblue\"):\n",
    "    \n",
    "    sdf_path = glob.glob(osp.join(confs_save_path, smiles_f, sdf_f_path))[0]\n",
    "    suppl = get_suppl_from_sdf(sdf_path)\n",
    "    suppl_ = [Chem.RemoveHs(mol) for mol in suppl]\n",
    "    visualize_confs(suppl_,  stick_colorscheme=\"skyblue\")"
   ]
  },
  {
   "cell_type": "code",
   "execution_count": 19,
   "id": "65928f58",
   "metadata": {},
   "outputs": [
    {
     "name": "stdout",
     "output_type": "stream",
     "text": [
      "len(suppl) 480\n"
     ]
    },
    {
     "data": {
      "application/vnd.jupyter.widget-view+json": {
       "model_id": "005dfa2cee6645429ca26fd88a7f6531",
       "version_major": 2,
       "version_minor": 0
      },
      "text/plain": [
       "interactive(children=(IntSlider(value=0, description='idx', max=479), Text(value='skyblue', description='stick…"
      ]
     },
     "metadata": {},
     "output_type": "display_data"
    }
   ],
   "source": [
    "confs_save_path = \"./confs_save_\"\n",
    "smiles_f = \"O=C(NCc1cccs1)C1CCN(S(=O)(=O)c2cccs2)CC1\"\n",
    "sdf_f_path = \"p*.sdf\"\n",
    "visualize_1mol_confs(confs_save_path, smiles_f, sdf_f_path, stick_colorscheme=\"skyblue\")"
   ]
  },
  {
   "cell_type": "code",
   "execution_count": null,
   "id": "c4a75fe4",
   "metadata": {},
   "outputs": [],
   "source": []
  }
 ],
 "metadata": {
  "kernelspec": {
   "display_name": "Python [conda env:graphormer]",
   "language": "python",
   "name": "graphormer"
  },
  "language_info": {
   "codemirror_mode": {
    "name": "ipython",
    "version": 3
   },
   "file_extension": ".py",
   "mimetype": "text/x-python",
   "name": "python",
   "nbconvert_exporter": "python",
   "pygments_lexer": "ipython3",
   "version": "3.7.11"
  }
 },
 "nbformat": 4,
 "nbformat_minor": 5
}
