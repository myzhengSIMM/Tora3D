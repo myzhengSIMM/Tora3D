{
 "cells": [
  {
   "cell_type": "code",
   "execution_count": 1,
   "id": "f039ff19",
   "metadata": {
    "collapsed": true
   },
   "outputs": [],
   "source": [
    "from tqdm.notebook import tqdm\n",
    "from data2list import geom_confs\n",
    "import torch\n",
    "import time\n",
    "from utils_others import load_4files"
   ]
  },
  {
   "cell_type": "code",
   "execution_count": 5,
   "id": "3466995d",
   "metadata": {},
   "outputs": [],
   "source": [
    "# 超参数\n",
    "\n",
    "get_dih_mothed = \"preciseone\"     # tense or sparse\n",
    "\n",
    "# data_path = \"/home/admin/work/geomol/rdkit_folder/qm9\"\n",
    "data_path = \"/GEOM/rdkit_folder/drugs\"\n",
    "\n",
    "save_data_path = \"./data_1/drugs\"\n",
    "\n",
    "device =torch.device('cuda' if torch.cuda.is_available() else 'cpu')\n",
    "# device = torch.device('cpu')"
   ]
  },
  {
   "cell_type": "code",
   "execution_count": 6,
   "id": "9ee44578",
   "metadata": {},
   "outputs": [],
   "source": [
    "dataset = geom_confs(data_path, \n",
    "                     get_dih_mothed=get_dih_mothed, \n",
    "                     save_data_path=save_data_path, \n",
    "                     save_every = 10000, \n",
    "                     write=True, \n",
    "                     device=device)"
   ]
  },
  {
   "cell_type": "code",
   "execution_count": 2,
   "id": "317f84b1",
   "metadata": {},
   "outputs": [],
   "source": [
    "print (time.strftime(\"%Y-%m-%d %H:%M:%S\", time.localtime()))\n",
    "data_list = []\n",
    "k = 0\n",
    "for i in tqdm(range(len(dataset.all_files))):\n",
    "    data = dataset.get(i)\n",
    "    if data:\n",
    "        data_list.append(data)\n",
    "        k+=1\n",
    "#         print(f\"第{i}\")\n",
    "print (time.strftime(\"%Y-%m-%d %H:%M:%S\", time.localtime()))"
   ]
  },
  {
   "cell_type": "code",
   "execution_count": 8,
   "id": "da41accd",
   "metadata": {},
   "outputs": [],
   "source": [
    "# self = dataset\n",
    "\n",
    "# from utils_base import pickle_\n",
    "# pickle_.save(self.smiles_list_file, self.smiles_list)\n",
    "# pickle_.save(self.torsion_idx_list_file, self.torsion_idx_list)\n",
    "# pickle_.save(self.torsion_list_file, self.torsion_list)\n",
    "# pickle_.save(self.relativeenergy_list_file, self.relativeenergy_list)"
   ]
  },
  {
   "cell_type": "code",
   "execution_count": null,
   "id": "17e2f3cb",
   "metadata": {},
   "outputs": [],
   "source": [
    "# # debug\n",
    "# self = dataset\n",
    "\n",
    "# len(self.smiles_list)\n",
    "\n",
    "# len(self.smiles_list),len(self.torsion_idx_list),len(self.torsion_list),len(self.relativeenergy_list)\n",
    "\n",
    "# self.torsion_idx_list\n",
    "\n",
    "# self.torsion_list\n",
    "\n",
    "# self.relativeenergy_list"
   ]
  },
  {
   "cell_type": "code",
   "execution_count": 5,
   "id": "c9a53c50",
   "metadata": {},
   "outputs": [],
   "source": [
    "# 16257 is the longest"
   ]
  },
  {
   "cell_type": "code",
   "execution_count": null,
   "id": "fe163eba",
   "metadata": {},
   "outputs": [],
   "source": []
  },
  {
   "cell_type": "code",
   "execution_count": 25,
   "id": "b49dcab3",
   "metadata": {},
   "outputs": [],
   "source": [
    "# path = \"./data_1\"\n",
    "# ol = \"drugs\""
   ]
  },
  {
   "cell_type": "code",
   "execution_count": 29,
   "id": "9bb252ad",
   "metadata": {},
   "outputs": [],
   "source": [
    "# def mines(a,b):\n",
    "#     return list(set(a).intersection(set(b)))"
   ]
  },
  {
   "cell_type": "code",
   "execution_count": 39,
   "id": "a9b4ab55",
   "metadata": {},
   "outputs": [],
   "source": [
    "# smilelist = smilelist+smilelist1+smilelist2+smilelist3\n",
    "# torsion_angle = torsion_angle+torsion_angle1+torsion_angle2+torsion_angle3\n",
    "# torsion_list = torsion_list+torsion_list1+torsion_list2+torsion_list3\n",
    "# relativeenergy_list = relativeenergy_list+relativeenergy_list1+relativeenergy_list2+relativeenergy_list3"
   ]
  },
  {
   "cell_type": "code",
   "execution_count": 3,
   "id": "00d404a2",
   "metadata": {},
   "outputs": [],
   "source": [
    "# pickle_.save(self.smiles_list_file, smilelist)\n",
    "# pickle_.save(self.torsion_idx_list_file, torsion_list)\n",
    "# pickle_.save(self.torsion_list_file, torsion_angle)\n",
    "# pickle_.save(self.relativeenergy_list_file, relativeenergy_list)"
   ]
  },
  {
   "cell_type": "code",
   "execution_count": null,
   "id": "8084427b",
   "metadata": {},
   "outputs": [],
   "source": []
  },
  {
   "cell_type": "code",
   "execution_count": null,
   "id": "4bc8281e",
   "metadata": {},
   "outputs": [],
   "source": []
  },
  {
   "cell_type": "code",
   "execution_count": null,
   "id": "ba43845f",
   "metadata": {},
   "outputs": [],
   "source": []
  },
  {
   "cell_type": "code",
   "execution_count": null,
   "id": "7c2bd70d",
   "metadata": {},
   "outputs": [],
   "source": []
  },
  {
   "cell_type": "code",
   "execution_count": null,
   "id": "523fe9de",
   "metadata": {},
   "outputs": [],
   "source": []
  },
  {
   "cell_type": "code",
   "execution_count": null,
   "id": "a17f5c0e",
   "metadata": {},
   "outputs": [],
   "source": []
  },
  {
   "cell_type": "code",
   "execution_count": null,
   "id": "d7f2d369",
   "metadata": {},
   "outputs": [],
   "source": []
  },
  {
   "cell_type": "code",
   "execution_count": null,
   "id": "af2a00b9",
   "metadata": {},
   "outputs": [],
   "source": []
  },
  {
   "cell_type": "code",
   "execution_count": null,
   "id": "6f3a688f",
   "metadata": {},
   "outputs": [],
   "source": []
  },
  {
   "cell_type": "code",
   "execution_count": null,
   "id": "41cf6444",
   "metadata": {},
   "outputs": [],
   "source": []
  },
  {
   "cell_type": "code",
   "execution_count": null,
   "id": "51b8e1e6",
   "metadata": {},
   "outputs": [],
   "source": []
  },
  {
   "cell_type": "code",
   "execution_count": null,
   "id": "32bcab2a",
   "metadata": {},
   "outputs": [],
   "source": []
  },
  {
   "cell_type": "code",
   "execution_count": null,
   "id": "ff2c6442",
   "metadata": {},
   "outputs": [],
   "source": []
  },
  {
   "cell_type": "code",
   "execution_count": null,
   "id": "a66e2d7d",
   "metadata": {},
   "outputs": [],
   "source": []
  },
  {
   "cell_type": "code",
   "execution_count": null,
   "id": "0744fd5e",
   "metadata": {},
   "outputs": [],
   "source": []
  },
  {
   "cell_type": "code",
   "execution_count": null,
   "id": "d661371c",
   "metadata": {},
   "outputs": [],
   "source": []
  },
  {
   "cell_type": "code",
   "execution_count": null,
   "id": "3371341e",
   "metadata": {},
   "outputs": [],
   "source": []
  }
 ],
 "metadata": {
  "kernelspec": {
   "display_name": "pvd",
   "language": "python",
   "name": "python3"
  },
  "language_info": {
   "codemirror_mode": {
    "name": "ipython",
    "version": 3
   },
   "file_extension": ".py",
   "mimetype": "text/x-python",
   "name": "python",
   "nbconvert_exporter": "python",
   "pygments_lexer": "ipython3",
   "version": "3.9.10"
  }
 },
 "nbformat": 4,
 "nbformat_minor": 5
}
