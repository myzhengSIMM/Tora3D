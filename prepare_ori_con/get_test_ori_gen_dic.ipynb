{
 "cells": [
  {
   "cell_type": "raw",
   "id": "b2a6d847",
   "metadata": {},
   "source": [
    "the Preparation work in other file:\n",
    "1, get smi file\n",
    "--------------------------------------------------------\n",
    "test_smiles = []\n",
    "for batch_id, batch_data in enumerate(test_loader):\n",
    "    atom_feat, AM_bond_feat, node_color_feat, d, labels, masks, relativeenergys, num_atom_list, angle_group_num, num_confs_list, smiles_list = batch_data\n",
    "    test_smiles+=smiles_list\n",
    "\n",
    "from utils_base import save_list\n",
    "def save_test_list(test_smiles):\n",
    "    print(\"test_list len: \", len(test_smiles))\n",
    "    save_list(test_smiles, f\"prepare_ori_con/test_smiles_{len(test_smiles)}.smi\")\n",
    "    print(\"saved to \", f\"prepare_ori_con/test_smiles_{len(test_smiles)}.smi\")\n",
    "save_test_list(test_smiles)\n",
    "======================================================================\n",
    "2, process using conformator \n",
    "3, put .smi , .sdf, .console_info.txt in the current folder"
   ]
  },
  {
   "cell_type": "code",
   "execution_count": 14,
   "id": "aeddcb39",
   "metadata": {},
   "outputs": [],
   "source": [
    "import sys \n",
    "# sys.path.append(\"/home/admin/work/大四下学期药物所服务器文件/大四下学期药物所服务器文件/v100/predict_Dihedral_angle/trans_t_e(pos_wl_d) from_geom/noise_all\")\n",
    "sys.path.append(\"../\")\n",
    "import numpy as np\n",
    "\n",
    "from utils import count_console\n",
    "from utils_others import get_suppl_from_sdf\n",
    "from utils_base import load_list, pickle_"
   ]
  },
  {
   "cell_type": "code",
   "execution_count": 15,
   "id": "0ce59841",
   "metadata": {},
   "outputs": [],
   "source": [
    "# Hyperparameters\n",
    "nam = \"1600\""
   ]
  },
  {
   "cell_type": "code",
   "execution_count": 16,
   "id": "472131b2",
   "metadata": {},
   "outputs": [],
   "source": [
    "# console_file_path = \"console_info_200.txt\"\n",
    "# smileslist_file_path = \"test_smiles_200.smi\"\n",
    "# sdf_file_path = \"test_smiles_200.sdf\""
   ]
  },
  {
   "cell_type": "code",
   "execution_count": 17,
   "id": "b74f5831",
   "metadata": {},
   "outputs": [],
   "source": [
    "console_file_path = f\"console_info_{nam}.txt\"\n",
    "smileslist_file_path = f\"test_smiles_{nam}.smi\"\n",
    "sdf_file_path = f\"test_smiles_{nam}.sdf\""
   ]
  },
  {
   "cell_type": "code",
   "execution_count": 27,
   "id": "4394747f",
   "metadata": {
    "collapsed": true
   },
   "outputs": [
    {
     "ename": "NameError",
     "evalue": "name 'hde' is not defined",
     "output_type": "error",
     "traceback": [
      "\u001b[0;31m---------------------------------------------------------------------------\u001b[0m",
      "\u001b[0;31mNameError\u001b[0m                                 Traceback (most recent call last)",
      "\u001b[0;32m/tmp/ipykernel_28292/222701798.py\u001b[0m in \u001b[0;36m<module>\u001b[0;34m\u001b[0m\n\u001b[0;32m----> 1\u001b[0;31m \u001b[0mhde\u001b[0m\u001b[0;34m\u001b[0m\u001b[0;34m\u001b[0m\u001b[0m\n\u001b[0m\u001b[1;32m      2\u001b[0m \u001b[0msuccessed_idx\u001b[0m \u001b[0;34m=\u001b[0m \u001b[0mcount_console\u001b[0m\u001b[0;34m(\u001b[0m\u001b[0mconsole_file_path\u001b[0m\u001b[0;34m)\u001b[0m\u001b[0;34m\u001b[0m\u001b[0;34m\u001b[0m\u001b[0m\n\u001b[1;32m      3\u001b[0m \u001b[0;34m\u001b[0m\u001b[0m\n\u001b[1;32m      4\u001b[0m \u001b[0mlen\u001b[0m\u001b[0;34m(\u001b[0m\u001b[0msuccessed_idx\u001b[0m\u001b[0;34m)\u001b[0m\u001b[0;34m\u001b[0m\u001b[0;34m\u001b[0m\u001b[0m\n\u001b[1;32m      5\u001b[0m \u001b[0;34m\u001b[0m\u001b[0m\n",
      "\u001b[0;31mNameError\u001b[0m: name 'hde' is not defined"
     ]
    }
   ],
   "source": [
    "successed_idx = count_console(console_file_path)\n",
    "\n",
    "len(successed_idx)\n",
    "\n",
    "suppl = get_suppl_from_sdf(sdf_file_path)\n",
    "\n",
    "smiles_list = load_list(smileslist_file_path)\n",
    "len(smiles_list)\n",
    "\n",
    "dic = dict(zip(list(np.array(smiles_list)[successed_idx]), suppl))\n",
    "\n",
    "\n",
    "pickle_.save( f\"test_{nam}_dic.pkl\", dic)"
   ]
  },
  {
   "cell_type": "code",
   "execution_count": null,
   "id": "e7309323",
   "metadata": {},
   "outputs": [],
   "source": []
  },
  {
   "cell_type": "code",
   "execution_count": null,
   "id": "b40a28dc",
   "metadata": {},
   "outputs": [],
   "source": [
    "# 导入保存的测试集真实构象字典，处理成confVAE和geomol接受的输入"
   ]
  },
  {
   "cell_type": "code",
   "execution_count": 28,
   "id": "00711e04",
   "metadata": {
    "scrolled": true
   },
   "outputs": [
    {
     "name": "stdout",
     "output_type": "stream",
     "text": [
      "2022-10-04 21:25:30\n",
      "已经保存到test_1088_dic_smiles_list.pkl中了\n"
     ]
    }
   ],
   "source": [
    "test_1088_dic = pickle_.load(\"test_1088_dic.pkl\")\n",
    "\n",
    "# confVAE的输入\n",
    "test_1088_dic_smiles_list = list(test_1088_dic.keys())\n",
    "pickle_.save(\"test_1088_dic_smiles_list.pkl\",test_1088_dic_smiles_list)\n",
    "\n",
    "# geomol的输入\n",
    "嗯。。去confVAE找吧，在处理1088使之能够输入confVAE的时候一起处理了，使之能够输入geomol"
   ]
  },
  {
   "cell_type": "code",
   "execution_count": null,
   "id": "6add0313",
   "metadata": {},
   "outputs": [],
   "source": []
  },
  {
   "cell_type": "code",
   "execution_count": null,
   "id": "14105c7a",
   "metadata": {},
   "outputs": [],
   "source": []
  },
  {
   "cell_type": "code",
   "execution_count": null,
   "id": "1833f8ef",
   "metadata": {},
   "outputs": [],
   "source": []
  },
  {
   "cell_type": "code",
   "execution_count": null,
   "id": "488afbd7",
   "metadata": {},
   "outputs": [],
   "source": []
  },
  {
   "cell_type": "code",
   "execution_count": null,
   "id": "5ae1f66a",
   "metadata": {},
   "outputs": [],
   "source": []
  }
 ],
 "metadata": {
  "kernelspec": {
   "display_name": "Python [conda env:graphormer]",
   "language": "python",
   "name": "graphormer"
  },
  "language_info": {
   "codemirror_mode": {
    "name": "ipython",
    "version": 3
   },
   "file_extension": ".py",
   "mimetype": "text/x-python",
   "name": "python",
   "nbconvert_exporter": "python",
   "pygments_lexer": "ipython3",
   "version": "3.7.11"
  }
 },
 "nbformat": 4,
 "nbformat_minor": 5
}
